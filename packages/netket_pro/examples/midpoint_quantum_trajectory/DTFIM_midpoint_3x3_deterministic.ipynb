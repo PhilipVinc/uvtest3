{
 "cells": [
  {
   "cell_type": "code",
   "execution_count": 1,
   "metadata": {},
   "outputs": [
    {
     "name": "stderr",
     "output_type": "stream",
     "text": [
      "hwloc/linux: Ignoring PCI device with non-16bit domain.\n",
      "Pass --enable-32bits-pci-domain to configure to support such devices\n",
      "(warning: it would break the library ABI, don't enable unless really needed).\n"
     ]
    }
   ],
   "source": [
    "import os, sys\n",
    "os.environ[\"JAX_PLATFORM_NAME\"] = \"cpu\"\n",
    "\n",
    "import numpy as np\n",
    "import qutip as qt\n",
    "from tqdm import tqdm\n",
    "import matplotlib.pyplot as plt\n",
    "\n",
    "import time\n",
    "import jax\n",
    "import flax\n",
    "import netket as nk\n",
    "import jax.numpy as jnp\n",
    "import flax.linen as nn\n",
    "import optax\n",
    "from netket.operator import LocalOperator\n",
    "\n",
    "from scipy.interpolate import PchipInterpolator\n",
    "import copy\n",
    "from functools import partial\n",
    "\n",
    "from scipy.linalg import eig, inv\n",
    "\n",
    "import netket_pro as nkp\n",
    "import netket_pro.jumps as nkj\n",
    "\n",
    "from netket.operator.spin import sigmax,sigmay,sigmaz,sigmam,sigmap\n",
    "from netket.vqs import MCState, FullSumState"
   ]
  },
  {
   "cell_type": "code",
   "execution_count": 2,
   "metadata": {},
   "outputs": [],
   "source": [
    "def overlap(s1, s2):\n",
    "    return s1.conj().T @ s2\n",
    "\n",
    "def fidelity(s1, s2):\n",
    "    F = overlap(s1, s2) * overlap(s2, s1) / overlap(s1, s1) / overlap(s2, s2)\n",
    "    return jnp.abs(F.item())"
   ]
  },
  {
   "cell_type": "code",
   "execution_count": 9,
   "metadata": {},
   "outputs": [],
   "source": [
    "def _prepare_operators(H, c_ops, e_ops):\n",
    "    c_tot = sum([c.H@c for c in c_ops])\n",
    "    H_eff = H - 0.5j * c_tot \n",
    "    Hd, Hod = nkj.operations.split_hamiltonian(H_eff)\n",
    "    apply_exp_diagH = nkj.operations.get_apply_exp_diagH(Hd)\n",
    "    \n",
    "    c_ops = [copy.copy(c) for c in c_ops]\n",
    "    e_ops = [copy.copy(e) for e in e_ops]\n",
    "    return Hod, apply_exp_diagH, c_ops, e_ops\n",
    "\n",
    "def _save_state(psi, e_ops, obs_dict):\n",
    "    expvals = [psi.expect(e).real().mean.item() for e in e_ops]\n",
    "    obs_dict[\"states\"].append(copy.copy(psi))\n",
    "    obs_dict[\"expect\"].append(expvals)\n",
    "    obs_dict[\"hilbert\"].append(psi.hilbert)\n",
    "\n",
    "def _midpoint_step(psi, phi, dt, f_diag, Hod, optimizer, cv_coeff, n_iter, target_infidelity, obs_dict, SR_maxiter, SR_diag_shift, do_log=True):\n",
    "    # Diagonal evolution\n",
    "    f_diag(psi, scale=0.5*dt)\n",
    "    phi.variables = psi.variables\n",
    "    \n",
    "    # Off-diagonal evolution\n",
    "    logger = nk.logging.RuntimeLog()\n",
    "    if SR_maxiter > 0:\n",
    "        preconditioner = nk.optimizer.SR(solver=partial(jax.scipy.sparse.linalg.cg, maxiter=SR_maxiter), diag_shift=SR_diag_shift, holomorphic=True)\n",
    "    else:\n",
    "        preconditioner = nk.optimizer.identity_preconditioner\n",
    "        \n",
    "    te = nkp.driver.MidpointInfidelityOptimizer(\n",
    "        phi,\n",
    "        optimizer,\n",
    "        variational_state=psi,\n",
    "        H = Hod,\n",
    "        dt = dt,\n",
    "        cv_coeff=cv_coeff,\n",
    "        preconditioner=preconditioner,\n",
    "    )\n",
    "    te.run(n_iter=n_iter, out=logger, show_progress=False, target_infidelity=target_infidelity)\n",
    "    phi.variables = psi.variables\n",
    "    \n",
    "    # Diagonal evolution\n",
    "    f_diag(psi, scale=0.5*dt)\n",
    "    phi.variables = psi.variables\n",
    "    \n",
    "    #logger_save\n",
    "    if do_log:\n",
    "        zadd = n_iter - logger.data[\"Infidelity\"][\"Mean\"].size\n",
    "        mean = jnp.abs(logger.data[\"Infidelity\"][\"Mean\"])\n",
    "        mean = jnp.pad(mean, (0,zadd), constant_values=0)\n",
    "        obs_dict[\"infidelity_mean\"].append(mean)\n",
    "        \n",
    "        var = logger.data[\"Infidelity\"][\"Variance\"]\n",
    "        var = jnp.pad(var, (0,zadd), constant_values=0)\n",
    "        obs_dict[\"infidelity_var\"].append(var)\n",
    "    \n",
    "\n",
    "def dynamics_with_jumps(H, c_ops, e_ops, variational_state, dt, tf, SR_maxiter=10, SR_diag_shift=1e-4,\n",
    "                                    cv_coeff=None, n_iter=100, optimizer=nk.optimizer.Adam(learning_rate=0.01),\n",
    "                                    target_infidelity=None, to_zero=1e-12):\n",
    "    psi = variational_state\n",
    "    phi = copy.copy(psi)\n",
    "        \n",
    "    # Create integration handles\n",
    "    obs_dict = {\"expect\": [], \"states\": [], \"times\": [], \"infidelity_mean\": [], \"infidelity_var\": [], \"hilbert\": []}\n",
    "    \n",
    "    # Prepare evolution handles\n",
    "    Hod, apply_exp_diagH, c_ops, e_ops = _prepare_operators(H, c_ops, e_ops)\n",
    "    _step = lambda dt, n_iter, do_log=True: _midpoint_step(psi, phi, dt, apply_exp_diagH, Hod, optimizer, cv_coeff, n_iter, target_infidelity, obs_dict, SR_maxiter, SR_diag_shift, do_log=do_log)\n",
    "    _save = lambda : _save_state(psi, e_ops, obs_dict)\n",
    "    \n",
    "    ## TIME EVOLUTION\n",
    "    t = 0.\n",
    "    add_iter = 0\n",
    "    clock = time.time()\n",
    "    print(\"Starting time evolution\")\n",
    "    while t <= tf-dt:\n",
    "        # Save state and expectation values\n",
    "        _save()\n",
    "        obs_dict[\"times\"].append(t)\n",
    "\n",
    "        _step(dt, n_iter + add_iter)\n",
    "        t+=dt\n",
    "            \n",
    "        completion = 100*t/tf\n",
    "        elapsed_time = time.time()-clock\n",
    "        remaining_time = elapsed_time/completion*(100-completion)\n",
    "        print(\"\\r Completion: {:.2f}%\".format(completion), end=\" Elapsed time: {:.2f}s\".format(elapsed_time)+\" Remaining time: {:.2f}s\".format(remaining_time))\n",
    "        \n",
    "        \n",
    "    print(\"\\r Completion: 100%\", \"Elapsed time: {:.2f}s\".format(time.time()-clock))\n",
    "    print(\"Done!\")    \n",
    "    \n",
    "    expect = jnp.array(obs_dict[\"expect\"]).T\n",
    "    obs_dict[\"expect\"] = expect\n",
    "    obs_dict[\"times\"] = jnp.array(obs_dict[\"times\"])\n",
    "    obs_dict[\"infidelity_mean\"] = jnp.array(obs_dict[\"infidelity_mean\"])\n",
    "    obs_dict[\"infidelity_var\"] = jnp.array(obs_dict[\"infidelity_var\"])\n",
    "    \n",
    "    return obs_dict"
   ]
  },
  {
   "cell_type": "code",
   "execution_count": 10,
   "metadata": {},
   "outputs": [],
   "source": [
    "# INTEGRATOR\n",
    "def exact_integrator(psi0, dt, tf, e_ops, exp_Heff_dt):\n",
    "    psi = psi0\n",
    "    phi = copy.copy(psi)\n",
    "    \n",
    "    t_list = []\n",
    "    expect = []\n",
    "    psi_list = []\n",
    "    phi_list = []\n",
    "    \n",
    "    Heff_exact_step, Hd_exact_step, Hod_exact_step = exp_Heff_dt(dt)\n",
    "    \n",
    "    t = 0.\n",
    "    while t <= tf-dt:\n",
    "        psi_list.append(psi)\n",
    "        phi_list.append(phi)\n",
    "        expect.append([np.real(qt.expect(e, psi/psi.norm())) for e in e_ops])\n",
    "        t_list.append(t)\n",
    "\n",
    "        psi = Heff_exact_step(psi)\n",
    "        \n",
    "        phi = Hd_exact_step(phi)\n",
    "        phi = Hod_exact_step(phi)\n",
    "        phi = Hd_exact_step(phi)\n",
    "        t+=dt\n",
    "        \n",
    "    t_list = np.array(t_list)\n",
    "    expect = np.array(expect).T\n",
    "    return t_list, expect, psi_list, phi_list"
   ]
  },
  {
   "cell_type": "code",
   "execution_count": null,
   "metadata": {},
   "outputs": [],
   "source": []
  },
  {
   "cell_type": "code",
   "execution_count": 5,
   "metadata": {},
   "outputs": [
    {
     "data": {
      "image/png": "[encoded data removed]",
      "text/plain": [
       "<Figure size 400x200 with 1 Axes>"
      ]
     },
     "metadata": {},
     "output_type": "display_data"
    }
   ],
   "source": [
    "# Define geometry\n",
    "Lx, Ly = 3, 3\n",
    "g  = nk.graph.Grid((Lx, Ly), pbc=False)\n",
    "g.draw(figsize=(4,2))\n",
    "N  = g.n_nodes\n",
    "hi = nk.hilbert.Spin(s=1/2, N=g.n_nodes, inverted_ordering=False)\n",
    "\n",
    "γ = 1\n",
    "h = 0.3\n",
    "J = -1.\n",
    "\n",
    "H_diag = sum([J * sigmaz(hi, i) * sigmaz(hi, j) for i,j in g.edges()]) \n",
    "H_offd = sum([h * sigmax(hi, i) for i in g.nodes()])\n",
    "H      = H_diag + H_offd\n",
    "c_ops  = [np.sqrt(γ) * sigmam(hi,i) for i in g.nodes()]\n",
    "e_ops  = [sum([sigmaz(hi,i) for i in g.nodes()])/N, sum([sigmax(hi,i) for i in g.nodes()])/N] + [sigmaz(hi,i) for i in g.nodes()]"
   ]
  },
  {
   "cell_type": "code",
   "execution_count": 6,
   "metadata": {},
   "outputs": [],
   "source": [
    "dt = 0.05\n",
    "tf = 2."
   ]
  },
  {
   "cell_type": "code",
   "execution_count": 7,
   "metadata": {},
   "outputs": [],
   "source": [
    "alpha = 9\n",
    "model = nkj.networks.RBM(alpha=alpha, param_dtype=complex)\n",
    "model = nkj.networks.ExtendedNetwork(model, param_dtype=complex, kernel_two_body_init=nn.initializers.normal(), delta_dw_init=nn.initializers.normal(), delta_up_init=nn.initializers.normal())\n",
    "vgs = nk.vqs.FullSumState(hi, model)\n",
    "\n",
    "with open(\"initial_state_3x3_alpha=%d.mpack\"%alpha, 'rb') as file:\n",
    "  vgs = flax.serialization.from_bytes(vgs, file.read())"
   ]
  },
  {
   "cell_type": "code",
   "execution_count": 11,
   "metadata": {},
   "outputs": [
    {
     "name": "stdout",
     "output_type": "stream",
     "text": [
      "Starting time evolution\n",
      " Completion: 100% Elapsed time: 210.23s3s Remaining time: 5.39ss\n",
      "Done!\n"
     ]
    }
   ],
   "source": [
    "# Define the variational state\n",
    "sampler = nk.sampler.ExactSampler(hi) #nk.sampler.MetropolisLocal(hilbert=hi, n_chains_per_rank_or_device=16)\n",
    "psi = nk.vqs.FullSumState(hi, model) #nk.vqs.MCState(sampler=sampler, model=model, n_samples=5000)\n",
    "psi.variables = vgs.variables\n",
    "\n",
    "# Optimization parameters\n",
    "lr = 1e-2\n",
    "SR_maxiter = 90\n",
    "SR_diag_shift = 1e-3\n",
    "n_iter = 100\n",
    "optimizer = optax.adabelief(learning_rate=lr,)\n",
    "\n",
    "# Define handles for exact evolution\n",
    "Heff_qo   = (H - 1j/2 * sum([c.H@c for c in c_ops])).to_qobj()\n",
    "Heffd_qo  = qt.Qobj(np.diag(Heff_qo.diag()) , dims=Heff_qo.dims)\n",
    "Heffod_qo = Heff_qo - Heffd_qo \n",
    "c_ops_qo = [c.to_qobj() for c in c_ops]\n",
    "e_ops_qo = [e.to_qobj() for e in e_ops]\n",
    "psi0_qo  = psi.to_qobj()\n",
    "\n",
    "λ, R = eig(Heff_qo.full())\n",
    "L = inv(R)\n",
    "def exp_Heff_dt(dt):\n",
    "    exp_Heff = R @ np.diag(np.exp(-1j*λ*dt)) @ L\n",
    "    exact = qt.Qobj( exp_Heff , dims=Heff_qo.dims )\n",
    "    \n",
    "    exp_Heff_diag = np.diag(np.exp(-1j*Heffd_qo.diag() * dt/2)) #note the factor 1/2\n",
    "    exact_diag = qt.Qobj( exp_Heff_diag , dims=Heffd_qo.dims ) \n",
    "    \n",
    "    h = np.diag(np.ones(2**N)) + 1j * dt/2 * Heffod_qo.full()\n",
    "    midpoint_offdiag = qt.Qobj( inv(h) @ h.conj().T , dims=Heffod_qo.dims )\n",
    "    return lambda psi: exact * psi, lambda psi: exact_diag * psi, lambda psi: midpoint_offdiag * psi\n",
    "    \n",
    "\n",
    "# Define additional parameters for the integrator\n",
    "cv_coeff = -0.5\n",
    "to_zero  = 1e-12\n",
    "target_infidelity = 1e-12\n",
    "\n",
    "# Evolve\n",
    "ts, expect_ED, psi_ED, phi_ED = exact_integrator(psi0_qo, dt, tf, e_ops_qo, exp_Heff_dt)\n",
    "\n",
    "obs_dict = dynamics_with_jumps(H, c_ops, e_ops, psi, dt, tf, SR_maxiter=SR_maxiter, SR_diag_shift=SR_diag_shift,\n",
    "                               target_infidelity=target_infidelity, cv_coeff=cv_coeff, to_zero=to_zero,\n",
    "                               n_iter=n_iter, optimizer=optimizer,)"
   ]
  },
  {
   "cell_type": "code",
   "execution_count": 12,
   "metadata": {},
   "outputs": [],
   "source": [
    "expect = obs_dict[\"expect\"]\n",
    "infidelity_mean = obs_dict[\"infidelity_mean\"] \n",
    "infidelity_var = obs_dict[\"infidelity_var\"] \n",
    "states = obs_dict[\"states\"]\n",
    "times = obs_dict[\"times\"]"
   ]
  },
  {
   "cell_type": "code",
   "execution_count": 20,
   "metadata": {},
   "outputs": [
    {
     "data": {
      "image/png": "[encoded data removed]",
      "text/plain": [
       "<Figure size 400x400 with 2 Axes>"
      ]
     },
     "metadata": {},
     "output_type": "display_data"
    }
   ],
   "source": [
    "fig, ax = plt.subplots(2,1, figsize=(4,4), sharex=True)\n",
    "\n",
    "for i in range(2):\n",
    "    ax[i].plot(times, expect[i]   , \"k\"  , label=\"Variational\")\n",
    "    ax[i].plot(ts, expect_ED[i], \"y--\", label=\"Exact\")\n",
    "    # ax[i].set_ylim(-1.1,1.1)\n",
    "\n",
    "ax[+0].set_ylabel(r\"$M_z$\")\n",
    "ax[+1].set_ylabel(r\"$M_x$\")\n",
    "ax[-1].set_xlabel(r\"$t$\")\n",
    "ax[0].legend();"
   ]
  },
  {
   "cell_type": "code",
   "execution_count": 21,
   "metadata": {},
   "outputs": [
    {
     "name": "stdout",
     "output_type": "stream",
     "text": [
      "Infdelity  1.469573622381315e-05\n",
      "Initial infidelity: 2.6643e-03, Final infidelity: 1.7620e-06\n"
     ]
    },
    {
     "data": {
      "image/png": "[encoded data removed]",
      "text/plain": [
       "<Figure size 400x250 with 1 Axes>"
      ]
     },
     "metadata": {},
     "output_type": "display_data"
    }
   ],
   "source": [
    "t  =  0.3\n",
    "it = np.argmin(np.abs(ts-t))\n",
    "I  = infidelity_mean[it]\n",
    "\n",
    "wf_true = psi_ED[it+1].full().ravel()\n",
    "wf_true = wf_true / np.linalg.norm(wf_true)\n",
    "prob_true = np.abs(wf_true)**2\n",
    "\n",
    "wf = states[it+1].to_array()\n",
    "wf = wf / np.linalg.norm(wf)\n",
    "prob = np.abs(wf)**2\n",
    "\n",
    "s1 = wf\n",
    "s2 = wf_true\n",
    "print(\"Infdelity \", 1. - fidelity(s1,s2))\n",
    "\n",
    "fig,ax = plt.subplots(1,1, figsize=(4.,2.5), gridspec_kw={\"wspace\":0.4})\n",
    "ax.plot(np.arange(len(I))+1, I, label=\"FullSum\")\n",
    "ax.legend()\n",
    "print(f\"Initial infidelity: {I[0]:.4e}, Final infidelity: {I[-1]:.4e}\")\n",
    "\n",
    "# ax[0].set_xscale(\"log\")\n",
    "ax.set_yscale(\"log\")\n",
    "ax.set_ylabel(r\"$|\\mathcal{I}|$\")\n",
    "ax.set_xlabel(r\"iteration\")\n",
    "ax.set_ylim(bottom=1e-9);"
   ]
  },
  {
   "cell_type": "code",
   "execution_count": 25,
   "metadata": {},
   "outputs": [
    {
     "name": "stdout",
     "output_type": "stream",
     "text": [
      "Final infidelity: 3.608e-05\n",
      "Derivative at the end: -1.650e-05\n"
     ]
    },
    {
     "data": {
      "image/png": "[encoded data removed]",
      "text/plain": [
       "<Figure size 400x230 with 1 Axes>"
      ]
     },
     "metadata": {},
     "output_type": "display_data"
    }
   ],
   "source": [
    "fig,ax = plt.subplots(1,1, figsize=(4.,2.3), gridspec_kw={\"wspace\":0.4}, sharex=True)\n",
    "\n",
    "vecs  = [s.to_array(normalize=True) for s in states]\n",
    "vecs_ed = [s.unit().full().flatten() for s in psi_ED]\n",
    "\n",
    "norms = [np.linalg.norm(s.to_array(normalize=False)) for s in states]\n",
    "infs  = [1. - fidelity(s1,s2) for s1,s2 in zip(vecs, vecs_ed)]\n",
    "\n",
    "vecs_ed = [s.unit().full().flatten() for s in phi_ED]\n",
    "infs_1  = [1. - fidelity(s1,s2) for s1,s2 in zip(vecs, vecs_ed)]\n",
    "\n",
    "ax.plot(ts[1:], infs[1:])\n",
    "ax.plot(ts[1:], infs_1[1:])\n",
    "ax.set_yscale(\"log\")\n",
    "\n",
    "ax.set_xlabel(r\"$t$\")\n",
    "ax.set_ylabel(r\"$1 - \\mathcal{F}$\")\n",
    "\n",
    "ax.axhline(1e-2, c=\"k\", ls=\"--\", lw=1)\n",
    "ax.axhline(1e-3, c=\"k\", ls=\"--\", lw=1)\n",
    "ax.axhline(1e-4, c=\"k\", ls=\"--\", lw=1)\n",
    "ax.axhline(1e-5, c=\"k\", ls=\"--\", lw=1);\n",
    "\n",
    "print(\"Final infidelity: %.3e\" % infs[-1])\n",
    "print(\"Derivative at the end: %.3e\" % ((infs[-1]-infs[-2])/dt) )"
   ]
  },
  {
   "cell_type": "code",
   "execution_count": null,
   "metadata": {},
   "outputs": [],
   "source": []
  }
 ],
 "metadata": {
  "kernelspec": {
   "display_name": "NQS",
   "language": "python",
   "name": "python3"
  },
  "language_info": {
   "codemirror_mode": {
    "name": "ipython",
    "version": 3
   },
   "file_extension": ".py",
   "mimetype": "text/x-python",
   "name": "python",
   "nbconvert_exporter": "python",
   "pygments_lexer": "ipython3",
   "version": "3.10.12"
  }
 },
 "nbformat": 4,
 "nbformat_minor": 2
}
