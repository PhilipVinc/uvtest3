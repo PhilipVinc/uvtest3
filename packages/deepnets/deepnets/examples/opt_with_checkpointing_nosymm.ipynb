{
 "cells": [
  {
   "cell_type": "code",
   "execution_count": 1,
   "metadata": {},
   "outputs": [
    {
     "name": "stderr",
     "output_type": "stream",
     "text": [
      "/opt/homebrew/Caskroom/miniforge/base/envs/netket_pro_local/lib/python3.12/site-packages/tqdm/auto.py:21: TqdmWarning: IProgress not found. Please update jupyter and ipywidgets. See https://ipywidgets.readthedocs.io/en/stable/user_install.html\n",
      "  from .autonotebook import tqdm as notebook_tqdm\n"
     ]
    }
   ],
   "source": [
    "import netket as nk\n",
    "from netket_pro.driver import VMC_SRt\n",
    "from netket.nn.blocks import SymmExpSum \n",
    "from deepnets.nn.blocks import FlipExpSum \n",
    "from deepnets.system import Shastry_Sutherland\n",
    "from deepnets.net import ConvNext\n",
    "import optax\n",
    "import netket_checkpoint as nkc "
   ]
  },
  {
   "cell_type": "code",
   "execution_count": 2,
   "metadata": {},
   "outputs": [],
   "source": [
    "L = 6\n",
    "J = [1.0,1.5]\n",
    "n_blocks = (2,)\n",
    "features = (12,)\n",
    "expansion_factor = 2\n",
    "output_head = \"Vanilla\"\n",
    "kernel_width = 3\n",
    "downsample_factor = 2\n",
    "n_samples = 100\n",
    "lr = 0.01\n",
    "diag_shift = 1e-3\n",
    "r = 1e-6\n",
    "momentum = 0.9\n",
    "iters = 100\n",
    "total_iters = 2*iters\n",
    "output_dir = \"/Users/rajah.nutakki/test/\"\n",
    "save_every = 2\n"
   ]
  },
  {
   "cell_type": "code",
   "execution_count": 3,
   "metadata": {},
   "outputs": [
    {
     "name": "stderr",
     "output_type": "stream",
     "text": [
      "100%|██████████| 100/100 [00:39<00:00,  2.50it/s, Energy=-70.49+0.46j ± 0.87 [σ²=76.01, R̂=1.0584]]\n"
     ]
    },
    {
     "data": {
      "text/plain": [
       "(JsonLog('/Users/rajah.nutakki/test/log', mode=fail, autoflush_cost=0.005)\n",
       "   Runtime cost:\n",
       "   \tLog:    0.07987689971923828\n",
       "   \tParams: 0.13362479209899902,)"
      ]
     },
     "execution_count": 3,
     "metadata": {},
     "output_type": "execute_result"
    }
   ],
   "source": [
    "system = Shastry_Sutherland(L=L,J = J)\n",
    "network = ConvNext(n_blocks,features,expansion_factor,output_head,kernel_width,downsample_factor,features[-1],system)\n",
    "sampler = nk.sampler.MetropolisExchange(system.hilbert_space,graph=system.graph,n_chains=10,sweep_size = system.graph.n_nodes)\n",
    "var_state = nk.vqs.MCState(sampler,model = network.network, n_samples = n_samples, n_discard_per_chain = 0) \n",
    "lr_scheduler = optax.cosine_decay_schedule(init_value = lr, decay_steps = total_iters, alpha = 0.5)\n",
    "diag_shift_scheduler = optax.cosine_decay_schedule(init_value = diag_shift, decay_steps = total_iters, alpha = 0.1)\n",
    "optimizer = nk.optimizer.Sgd(learning_rate = lr_scheduler)\n",
    "SR_solver = nk.optimizer.solver.pinv_smooth(rtol = r, rtol_smooth = r)\n",
    "log = nk.logging.JsonLog(output_dir+\"opt\",mode=\"fail\",write_every=save_every,save_params=True,save_params_every = save_every)\n",
    "gs = nkc.driver1.VMC_SRt(system.hamiltonian, optimizer, linear_solver_fn = SR_solver, diag_shift = diag_shift_scheduler, variational_state = var_state, jacobian_mode = \"complex\", momentum = momentum)\n",
    "options = nkc.checkpoint.CheckpointManagerOptions(save_interval_steps = save_every, max_to_keep = 2)\n",
    "checkpoint = nkc.checkpoint.CheckpointManager(output_dir+\"checkpoint\",options = options)\n",
    "gs.run_checkpointed(n_iter = iters, out = log, checkpointer = checkpoint)"
   ]
  },
  {
   "cell_type": "code",
   "execution_count": 4,
   "metadata": {},
   "outputs": [
    {
     "name": "stderr",
     "output_type": "stream",
     "text": [
      "  0%|          | 0/200 [00:00<?, ?it/s]"
     ]
    },
    {
     "name": "stdout",
     "output_type": "stream",
     "text": [
      "restoring checkpoint # 100\n"
     ]
    },
    {
     "name": "stderr",
     "output_type": "stream",
     "text": [
      "/opt/homebrew/Caskroom/miniforge/base/envs/netket_pro_local/lib/python3.12/site-packages/orbax/checkpoint/type_handlers.py:1552: UserWarning: Couldn't find sharding info under RestoreArgs. Populating sharding info from sharding file. Please note restoration time will be slightly increased due to reading from file instead of directly from RestoreArgs. Note also that this option is unsafe when restoring on a different topology than the checkpoint was saved with.\n",
      "  warnings.warn(\n",
      "100%|██████████| 200/200 [00:39<00:00,  5.11it/s, Energy=-75.05-0.10j ± 0.57 [σ²=33.02, R̂=1.0387]] \n"
     ]
    },
    {
     "data": {
      "text/plain": [
       "(JsonLog('/Users/rajah.nutakki/test/log', mode=fail, autoflush_cost=0.005)\n",
       "   Runtime cost:\n",
       "   \tLog:    0.18039560317993164\n",
       "   \tParams: 0.2921721935272217,)"
      ]
     },
     "execution_count": 4,
     "metadata": {},
     "output_type": "execute_result"
    }
   ],
   "source": [
    "gs = nkc.driver1.VMC_SRt(system.hamiltonian, optimizer, linear_solver_fn = SR_solver, diag_shift = diag_shift, variational_state = var_state, jacobian_mode = \"complex\", momentum = momentum)\n",
    "gs.run_checkpointed(n_iter = total_iters,out = log, checkpointer = checkpoint)"
   ]
  }
 ],
 "metadata": {
  "kernelspec": {
   "display_name": "netket_pro_local",
   "language": "python",
   "name": "python3"
  },
  "language_info": {
   "codemirror_mode": {
    "name": "ipython",
    "version": 3
   },
   "file_extension": ".py",
   "mimetype": "text/x-python",
   "name": "python",
   "nbconvert_exporter": "python",
   "pygments_lexer": "ipython3",
   "version": "3.12.3"
  }
 },
 "nbformat": 4,
 "nbformat_minor": 2
}
