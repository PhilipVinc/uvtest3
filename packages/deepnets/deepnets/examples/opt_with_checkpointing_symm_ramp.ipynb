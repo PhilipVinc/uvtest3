{
 "cells": [
  {
   "cell_type": "code",
   "execution_count": 4,
   "metadata": {},
   "outputs": [],
   "source": [
    "import netket as nk\n",
    "from netket_pro.driver import VMC_SRt\n",
    "from netket.nn.blocks import SymmExpSum \n",
    "from deepnets.nn.blocks import FlipExpSum \n",
    "from deepnets.system import Shastry_Sutherland\n",
    "from deepnets.net import ConvNext\n",
    "import optax\n",
    "import netket_checkpoint as nkc "
   ]
  },
  {
   "cell_type": "code",
   "execution_count": 5,
   "metadata": {},
   "outputs": [],
   "source": [
    "L = 6\n",
    "J = [1.0,1.5]\n",
    "n_blocks = (2,)\n",
    "features = (12,)\n",
    "expansion_factor = 2\n",
    "output_head = \"Vanilla\"\n",
    "kernel_width = 3\n",
    "downsample_factor = 2\n",
    "n_samples = 100\n",
    "lrs = [1e-2,8e-3,6e-3,4e-3]\n",
    "alphas = [1,1,1,1]\n",
    "diag_shift = [1e-2,9e-3,8e-3,7e-3]\n",
    "diag_shift_end = 4*[1]\n",
    "r = 1e-6\n",
    "momentum = 0.9\n",
    "iters = [10,20,30,40]\n",
    "output_dir = \"/Users/rajah.nutakki/test/\"\n",
    "save_every = 2\n",
    "system = Shastry_Sutherland(L=L,J = J)\n",
    "network = ConvNext(n_blocks,features,expansion_factor,output_head,kernel_width,downsample_factor,features[-1],system)\n",
    "sampler = nk.sampler.MetropolisExchange(system.hilbert_space,graph=system.graph,n_chains=10,sweep_size = system.graph.n_nodes)\n",
    "log = nk.logging.JsonLog(output_dir+\"opt\",mode=\"write\",write_every=save_every,save_params=True,save_params_every = save_every)\n",
    "options = nkc.checkpoint.CheckpointManagerOptions(save_interval_steps = save_every, max_to_keep = 2)\n",
    "checkpoints = [nkc.checkpoint.CheckpointManager(output_dir+f\"checkpoint{i}\",options = options) for i in range(len(iters))]\n",
    "SR_solver = nk.optimizer.solver.pinv_smooth(rtol = r, rtol_smooth = r)\n",
    "nets = [network.network,\n",
    "        SymmExpSum(network.network, system.graph_symmetries[\"C4\"]),\n",
    "        SymmExpSum(network.network, system.graph_symmetries[\"Full point group\"]),\n",
    "        FlipExpSum(SymmExpSum(network.network, system.graph_symmetries[\"Full point group\"]))]\n",
    "lr_schedulers = [\n",
    "        optax.cosine_decay_schedule(\n",
    "            init_value=lrs[i],\n",
    "            decay_steps=iters[i],\n",
    "            alpha=alphas[i],\n",
    "            exponent=1,\n",
    "        )\n",
    "        for i in range(len(iters))\n",
    "    ]\n",
    "diag_shift_schedulers = [\n",
    "        optax.cosine_decay_schedule(\n",
    "            init_value=diag_shift[i],\n",
    "            decay_steps=iters[i],\n",
    "            alpha=diag_shift_end[i],\n",
    "            exponent=1,\n",
    "        )\n",
    "        for i in range(len(iters))\n",
    "    ]"
   ]
  },
  {
   "cell_type": "code",
   "execution_count": 6,
   "metadata": {},
   "outputs": [
    {
     "name": "stderr",
     "output_type": "stream",
     "text": [
      "  0%|          | 0/10 [00:00<?, ?it/s]"
     ]
    },
    {
     "name": "stdout",
     "output_type": "stream",
     "text": [
      "restoring checkpoint # 10\n"
     ]
    },
    {
     "name": "stderr",
     "output_type": "stream",
     "text": [
      "/opt/homebrew/Caskroom/miniforge/base/envs/netket_pro_local/lib/python3.12/site-packages/orbax/checkpoint/type_handlers.py:1552: UserWarning: Couldn't find sharding info under RestoreArgs. Populating sharding info from sharding file. Please note restoration time will be slightly increased due to reading from file instead of directly from RestoreArgs. Note also that this option is unsafe when restoring on a different topology than the checkpoint was saved with.\n",
      "  warnings.warn(\n",
      "100%|██████████| 10/10 [00:00<00:00, 23.39it/s, Energy=-21.3+0.5j ± 1.9 [σ²=369.5, R̂=1.0277]]\n",
      "  0%|          | 0/20 [00:00<?, ?it/s]"
     ]
    },
    {
     "name": "stdout",
     "output_type": "stream",
     "text": [
      "restoring checkpoint # 20\n"
     ]
    },
    {
     "name": "stderr",
     "output_type": "stream",
     "text": [
      "/opt/homebrew/Caskroom/miniforge/base/envs/netket_pro_local/lib/python3.12/site-packages/orbax/checkpoint/type_handlers.py:1552: UserWarning: Couldn't find sharding info under RestoreArgs. Populating sharding info from sharding file. Please note restoration time will be slightly increased due to reading from file instead of directly from RestoreArgs. Note also that this option is unsafe when restoring on a different topology than the checkpoint was saved with.\n",
      "  warnings.warn(\n",
      "100%|██████████| 20/20 [00:03<00:00,  6.10it/s, Energy=-72.88+0.19j ± 0.80 [σ²=63.36, R̂=1.0396]]\n",
      "  0%|          | 0/30 [00:00<?, ?it/s]"
     ]
    },
    {
     "name": "stdout",
     "output_type": "stream",
     "text": [
      "restoring checkpoint # 30\n"
     ]
    },
    {
     "name": "stderr",
     "output_type": "stream",
     "text": [
      "/opt/homebrew/Caskroom/miniforge/base/envs/netket_pro_local/lib/python3.12/site-packages/orbax/checkpoint/type_handlers.py:1552: UserWarning: Couldn't find sharding info under RestoreArgs. Populating sharding info from sharding file. Please note restoration time will be slightly increased due to reading from file instead of directly from RestoreArgs. Note also that this option is unsafe when restoring on a different topology than the checkpoint was saved with.\n",
      "  warnings.warn(\n",
      "100%|██████████| 30/30 [00:03<00:00,  8.54it/s, Energy=-75.80+0.09j ± 0.57 [σ²=32.13, R̂=1.0523]]\n",
      "  0%|          | 0/40 [00:00<?, ?it/s]"
     ]
    },
    {
     "name": "stdout",
     "output_type": "stream",
     "text": [
      "restoring checkpoint # 12\n"
     ]
    },
    {
     "name": "stderr",
     "output_type": "stream",
     "text": [
      "/opt/homebrew/Caskroom/miniforge/base/envs/netket_pro_local/lib/python3.12/site-packages/orbax/checkpoint/type_handlers.py:1552: UserWarning: Couldn't find sharding info under RestoreArgs. Populating sharding info from sharding file. Please note restoration time will be slightly increased due to reading from file instead of directly from RestoreArgs. Note also that this option is unsafe when restoring on a different topology than the checkpoint was saved with.\n",
      "  warnings.warn(\n",
      "100%|██████████| 40/40 [00:58<00:00,  1.47s/it, Energy=-75.63-0.02j ± 0.56 [σ²=31.40, R̂=1.0228]]\n"
     ]
    },
    {
     "ename": "",
     "evalue": "",
     "output_type": "error",
     "traceback": [
      "\u001b[1;31mThe Kernel crashed while executing code in the current cell or a previous cell. \n",
      "\u001b[1;31mPlease review the code in the cell(s) to identify a possible cause of the failure. \n",
      "\u001b[1;31mClick <a href='https://aka.ms/vscodeJupyterKernelCrash'>here</a> for more info. \n",
      "\u001b[1;31mView Jupyter <a href='command:jupyter.viewOutput'>log</a> for further details."
     ]
    }
   ],
   "source": [
    "old_vars = None\n",
    "#Set up for initial symmetry sector\n",
    "for i in range(len(iters)):\n",
    "    var_state = nk.vqs.MCState(sampler,model = nets[i],n_samples=n_samples,n_discard_per_chain=0)\n",
    "    if i > 0:\n",
    "        if i == 1 or i == 3:\n",
    "            old_vars[\"params\"] = {  # noqa: F821\n",
    "                \"module\": old_vars[\"params\"]  # noqa: F821\n",
    "            }  # hack around addition of \"module\" to parameters of symmetrized networks\n",
    "        var_state.variables = old_vars  # noqa: F821\n",
    "        assert old_vars == var_state.variables  # noqa: F821\n",
    "\n",
    "    optimizer = nk.optimizer.Sgd(learning_rate=lr_schedulers[i])\n",
    "    gs = nkc.driver1.VMC_SRt(system.hamiltonian,optimizer,linear_solver_fn=SR_solver,diag_shift = diag_shift_schedulers[i],variational_state=var_state,jacobian_mode=\"complex\",momentum=momentum)\n",
    "    gs.run_checkpointed(n_iter = iters[i],out = log, checkpointer = checkpoints[i])\n",
    "    old_vars = var_state.variables"
   ]
  },
  {
   "cell_type": "code",
   "execution_count": null,
   "metadata": {},
   "outputs": [],
   "source": []
  }
 ],
 "metadata": {
  "kernelspec": {
   "display_name": "netket_pro_local",
   "language": "python",
   "name": "python3"
  },
  "language_info": {
   "codemirror_mode": {
    "name": "ipython",
    "version": 3
   },
   "file_extension": ".py",
   "mimetype": "text/x-python",
   "name": "python",
   "nbconvert_exporter": "python",
   "pygments_lexer": "ipython3",
   "version": "3.12.3"
  }
 },
 "nbformat": 4,
 "nbformat_minor": 2
}
