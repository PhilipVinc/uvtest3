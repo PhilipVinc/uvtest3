{
 "cells": [
  {
   "cell_type": "code",
   "execution_count": 7,
   "metadata": {},
   "outputs": [],
   "source": [
    "import deepnets.optimization.save_load as save_load\n",
    "import netket as nk\n",
    "import netket_checkpoint as nkc\n",
    "import json\n",
    "import jax\n",
    "import numpy as np"
   ]
  },
  {
   "cell_type": "code",
   "execution_count": 8,
   "metadata": {},
   "outputs": [],
   "source": [
    "save_base = \"/Users/Rajah.Nutakki/Desktop/work_dummy/test/\" #where the output of a simulation with post_iterations is, see optimization"
   ]
  },
  {
   "cell_type": "code",
   "execution_count": 9,
   "metadata": {},
   "outputs": [],
   "source": [
    "#Start of expectation value script\n",
    "#Load in from checkpoint\n",
    "min_index,system,network = save_load.load(save_base+\"post.json\",\"ConvNext\")"
   ]
  },
  {
   "cell_type": "code",
   "execution_count": 10,
   "metadata": {},
   "outputs": [
    {
     "data": {
      "text/plain": [
       "8"
      ]
     },
     "execution_count": 10,
     "metadata": {},
     "output_type": "execute_result"
    }
   ],
   "source": [
    "min_index"
   ]
  },
  {
   "cell_type": "code",
   "execution_count": 11,
   "metadata": {},
   "outputs": [],
   "source": [
    "#Load in the vstate\n",
    "sampler = nk.sampler.MetropolisExchange(system.hilbert_space,graph=system.graph)\n",
    "vstate = nk.vqs.MCState(sampler,model=network)\n",
    "checkpoint = nkc.checkpoint.CheckpointManager(save_base + \"post/checkpoint\")\n",
    "vstate = checkpoint.restore_state(vstate,step = min_index)"
   ]
  },
  {
   "cell_type": "code",
   "execution_count": 13,
   "metadata": {},
   "outputs": [
    {
     "name": "stderr",
     "output_type": "stream",
     "text": [
      "/var/folders/q5/3th0qwt539db5yhyjt0j0c1w0000gp/T/ipykernel_49698/4072019128.py:6: UserWarning: For performance reasons, we suggest to use a power-of-two chunk size.\n",
      "  vstate.chunk_size = 500\n"
     ]
    }
   ],
   "source": [
    "#Compute the expectation values\n",
    "n_samples_per_chain = 1000\n",
    "vstate.n_chains= 32\n",
    "vstate.n_discard_per_chain=n_samples_per_chain\n",
    "vstate.n_samples=n_samples_per_chain*vstate.n_chains\n",
    "vstate.chunk_size = 500\n",
    "operators = {\n",
    "    \"energy\": system.hamiltonian,\n",
    "}\n",
    "results_dict={}\n",
    "for name,operator in operators.items():\n",
    "    result = vstate.expect(operator.to_jax_operator())\n",
    "    result_dict = result.__dict__ #convert all of the attributes and their values to a dictionary\n",
    "    #Convert to types compatible with json\n",
    "    for key,value in result_dict.items():\n",
    "        if isinstance(value,jax.Array):\n",
    "            result_dict[key] = float(np.real(complex(value))) #cannot go directly from jax.Array with complex dtype to float, so take real part\n",
    "    results_dict[name] = result_dict\n",
    "\n",
    "#Save all results\n",
    "with open(save_base+\"expectation_values.json\",\"w+\") as f:\n",
    "    json.dump(results_dict,f)"
   ]
  },
  {
   "cell_type": "code",
   "execution_count": null,
   "metadata": {},
   "outputs": [],
   "source": []
  }
 ],
 "metadata": {
  "kernelspec": {
   "display_name": "netket_pro_local",
   "language": "python",
   "name": "python3"
  },
  "language_info": {
   "codemirror_mode": {
    "name": "ipython",
    "version": 3
   },
   "file_extension": ".py",
   "mimetype": "text/x-python",
   "name": "python",
   "nbconvert_exporter": "python",
   "pygments_lexer": "ipython3",
   "version": "3.12.3"
  }
 },
 "nbformat": 4,
 "nbformat_minor": 2
}
