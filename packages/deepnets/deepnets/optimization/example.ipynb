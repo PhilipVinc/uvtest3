{
 "cells": [
  {
   "cell_type": "code",
   "execution_count": 1,
   "metadata": {},
   "outputs": [
    {
     "name": "stderr",
     "output_type": "stream",
     "text": [
      "[mbp-10838719:49865] shmem: mmap: an error occurred while determining whether or not /var/folders/q5/3th0qwt539db5yhyjt0j0c1w0000gp/T//ompi.mbp-10838719.502/jf.0/2174550016/sm_segment.mbp-10838719.502.819d0000.0 could be created.\n",
      "/opt/homebrew/Caskroom/miniforge/base/envs/netket_pro_local/lib/python3.12/site-packages/tqdm/auto.py:21: TqdmWarning: IProgress not found. Please update jupyter and ipywidgets. See https://ipywidgets.readthedocs.io/en/stable/user_install.html\n",
      "  from .autonotebook import tqdm as notebook_tqdm\n"
     ]
    }
   ],
   "source": [
    "import netket as nk\n",
    "from deepnets.net import ConvNext\n",
    "from deepnets.system import Shastry_Sutherland\n",
    "from deepnets.data import load\n",
    "import deepnets.optimization.protocols as protocols\n",
    "import deepnets.optimization.save_load as save_load\n",
    "from argparse import Namespace\n",
    "import netket_checkpoint as nkc\n",
    "import netket_pro\n",
    "import numpy as np\n",
    "import optax\n",
    "import jax\n",
    "import json\n",
    "import jax.numpy as jnp"
   ]
  },
  {
   "cell_type": "code",
   "execution_count": 2,
   "metadata": {},
   "outputs": [
    {
     "name": "stdout",
     "output_type": "stream",
     "text": [
      "Total number of samples = 128\n",
      "Total number of model parameters = 1248\n",
      "Running optimization...\n",
      "n_params > n_samples : Using minSR\n"
     ]
    },
    {
     "name": "stderr",
     "output_type": "stream",
     "text": [
      "100%|██████████| 10/10 [00:05<00:00,  1.94it/s, Energy=10.9+0.6j ± 1.7 [σ²=368.8, R̂=1.1076]]\n"
     ]
    },
    {
     "name": "stdout",
     "output_type": "stream",
     "text": [
      "Finished optimization\n",
      "Performing 10 additional optimization steps...\n",
      "Sampling parameters:\n",
      "n_chains = 32\n",
      "n_samples = 128\n",
      "n_discard_per_chain = 4\n"
     ]
    },
    {
     "name": "stderr",
     "output_type": "stream",
     "text": [
      "100%|██████████| 10/10 [00:05<00:00,  1.74it/s, Energy=10.1+1.3j ± 1.6 [σ²=325.5, R̂=1.1394]]"
     ]
    },
    {
     "name": "stdout",
     "output_type": "stream",
     "text": [
      "Final 10 energies = [10.77026384 12.58329089 14.2540732   9.29278483 10.35557866  7.46843713\n",
      "  9.183405    9.98723972  7.9310278  10.11048988]\n",
      "min_index=5\n",
      "Finished additional optimization steps\n",
      "Post-processing time = 9s\n"
     ]
    },
    {
     "name": "stderr",
     "output_type": "stream",
     "text": [
      "\n"
     ]
    }
   ],
   "source": [
    "#Parameters\n",
    "#Model parameters\n",
    "L = 6\n",
    "J = [0.8,1.0]\n",
    "system = Shastry_Sutherland(L=L, J = J)\n",
    "#sign_rule = [False]\n",
    "#Network parameters\n",
    "#ConvNext\n",
    "n_blocks = (1,)\n",
    "features = (12,)\n",
    "expansion_factor = 2\n",
    "downsample_factor = 2 #linear_patch_size \n",
    "kernel_width=3\n",
    "output_head = \"Vanilla\"\n",
    "final_features = features[0]\n",
    "network = ConvNext(n_blocks,features,expansion_factor,output_head,kernel_width,downsample_factor,final_features,system)\n",
    "args = {\"lr\": 1e-3,\n",
    "        \"iters\":[10],\n",
    "        \"alpha\":1,\n",
    "        \"samples_per_rank\": 128,\n",
    "        \"chains_per_rank\": 16,\n",
    "        \"diag_shift\":1e-6,\n",
    "        \"diag_shift_end\":1,\n",
    "        \"r\": 1e-6,\n",
    "        \"symmetries\": 0,\n",
    "        \"seed\": 5,\n",
    "        \"discard_fraction\":0,\n",
    "        \"save_every\":50,\n",
    "        \"show_progress\": True,\n",
    "        \"time_it\": False,\n",
    "        \"save_base\":\"/Users/Rajah.Nutakki/Desktop/work_dummy/test/\",\n",
    "        \"post_iters\": 10\n",
    "}\n",
    "args = Namespace(**args)\n",
    "sim_time, n_parameters= protocols.standard(system,network,args,momentum=0.9,compile_step=False)"
   ]
  },
  {
   "cell_type": "code",
   "execution_count": 2,
   "metadata": {},
   "outputs": [
    {
     "name": "stdout",
     "output_type": "stream",
     "text": [
      "Total number of model parameters = 1248\n",
      "Running optimization...\n",
      "Using minSR\n"
     ]
    },
    {
     "name": "stderr",
     "output_type": "stream",
     "text": [
      "100%|██████████| 10/10 [00:05<00:00,  1.88it/s, Energy=10.9+0.6j ± 1.7 [σ²=368.8, R̂=1.1076]]\n"
     ]
    },
    {
     "name": "stdout",
     "output_type": "stream",
     "text": [
      "Finished optimization\n",
      "Performing 10 additional optimization steps...\n",
      "Sampling parameters:\n",
      "n_chains = 32\n",
      "n_samples = 128\n",
      "n_discard_per_chain = 4\n"
     ]
    },
    {
     "name": "stderr",
     "output_type": "stream",
     "text": [
      "100%|██████████| 10/10 [00:05<00:00,  1.73it/s, Energy=10.1+1.3j ± 1.6 [σ²=325.5, R̂=1.1394]]"
     ]
    },
    {
     "name": "stdout",
     "output_type": "stream",
     "text": [
      "Final 10 energies = [10.77026384 12.58329089 14.2540732   9.29278483 10.35557866  7.46843713\n",
      "  9.183405    9.98723972  7.9310278  10.11048988]\n",
      "min_index=5\n",
      "Finished additional optimization steps\n",
      "Post-processing time = 9s\n"
     ]
    },
    {
     "name": "stderr",
     "output_type": "stream",
     "text": [
      "\n"
     ]
    }
   ],
   "source": [
    "#Parameters\n",
    "#Model parameters\n",
    "L = 6\n",
    "J = [0.8,1.0]\n",
    "system = Shastry_Sutherland(L=L, J = J)\n",
    "#sign_rule = [False]\n",
    "#Network parameters\n",
    "#ConvNext\n",
    "n_blocks = (1,)\n",
    "features = (12,)\n",
    "expansion_factor = 2\n",
    "downsample_factor = 2 #linear_patch_size \n",
    "kernel_width=3\n",
    "output_head = \"Vanilla\"\n",
    "final_features = features[0]\n",
    "network = ConvNext(n_blocks,features,expansion_factor,output_head,kernel_width,downsample_factor,final_features,system)\n",
    "args = {\"lr\": 1e-3,\n",
    "        \"iters\":[10],\n",
    "        \"alpha\":1,\n",
    "        \"samples_per_rank\": 128,\n",
    "        \"chains_per_rank\": 16,\n",
    "        \"diag_shift\":1e-6,\n",
    "        \"diag_shift_end\":1,\n",
    "        \"r\": 1e-6,\n",
    "        \"symmetries\": 0,\n",
    "        \"seed\": 5,\n",
    "        \"discard_fraction\":0,\n",
    "        \"save_every\":2,\n",
    "        \"show_progress\": True,\n",
    "        \"time_it\": False,\n",
    "        \"save_base\":\"/Users/Rajah.Nutakki/Desktop/work_dummy/test/\",\n",
    "        \"post_iters\": 10\n",
    "}\n",
    "args = Namespace(**args)\n",
    "sim_time, n_parameters= protocols.standard_checkpoint(system,network,args,momentum=0.9,compile_step=False)"
   ]
  },
  {
   "cell_type": "code",
   "execution_count": 3,
   "metadata": {},
   "outputs": [
    {
     "name": "stdout",
     "output_type": "stream",
     "text": [
      "Running optimization...\n",
      "Symmetry stage 0 on process 0:\n",
      "Total number of model parameters = 1248\n",
      "n_params > samples_per_rank : Using minSR\n"
     ]
    },
    {
     "name": "stderr",
     "output_type": "stream",
     "text": [
      "100%|██████████| 10/10 [00:05<00:00,  1.97it/s, Energy=10.9+0.6j ± 1.7 [σ²=368.8, R̂=1.1076]]\n"
     ]
    },
    {
     "name": "stdout",
     "output_type": "stream",
     "text": [
      "Symmetry stage 1 on process 0:\n",
      "Total number of model parameters = 1248\n",
      "n_params > samples_per_rank : Using minSR\n"
     ]
    },
    {
     "name": "stderr",
     "output_type": "stream",
     "text": [
      "100%|██████████| 10/10 [00:06<00:00,  1.48it/s, Energy=8.1-0.5j ± 1.4 [σ²=269.0, R̂=1.0666]]\n"
     ]
    },
    {
     "name": "stdout",
     "output_type": "stream",
     "text": [
      "Symmetry stage 2 on process 0:\n",
      "Total number of model parameters = 1248\n",
      "n_params > samples_per_rank : Using minSR\n"
     ]
    },
    {
     "name": "stderr",
     "output_type": "stream",
     "text": [
      "100%|██████████| 5/5 [00:04<00:00,  1.08it/s, Energy=5.8+0.1j ± 1.5 [σ²=288.2, R̂=1.0403]]\n"
     ]
    },
    {
     "name": "stdout",
     "output_type": "stream",
     "text": [
      "Symmetry stage 3 on process 0:\n",
      "Total number of model parameters = 1248\n",
      "n_params > samples_per_rank : Using minSR\n"
     ]
    },
    {
     "name": "stderr",
     "output_type": "stream",
     "text": [
      "100%|██████████| 5/5 [00:09<00:00,  1.81s/it, Energy=3.0+1.5j ± 1.7 [σ²=379.3, R̂=1.0662]]\n"
     ]
    },
    {
     "name": "stdout",
     "output_type": "stream",
     "text": [
      "Finished optimization\n",
      "Performing 10 additional optimization steps...\n",
      "Sampling parameters:\n",
      "n_chains = 32\n",
      "n_samples = 128\n",
      "n_discard_per_chain = 4\n"
     ]
    },
    {
     "name": "stderr",
     "output_type": "stream",
     "text": [
      "100%|██████████| 10/10 [00:17<00:00,  1.77s/it, Energy=-1.3+0.2j ± 1.9 [σ²=445.3, R̂=1.1204]]"
     ]
    },
    {
     "name": "stdout",
     "output_type": "stream",
     "text": [
      "Final 10 energies = [ 3.99063529  1.9301038   4.53742882  3.22770851  1.83667459  1.68555542\n",
      "  1.36538445 -1.65297545 -3.29509245 -1.3264436 ]\n",
      "min_index=8\n",
      "Finished additional optimization steps\n",
      "Post-processing time = 24s\n"
     ]
    },
    {
     "name": "stderr",
     "output_type": "stream",
     "text": [
      "\n"
     ]
    }
   ],
   "source": [
    "#Parameters\n",
    "#Model parameters\n",
    "L = 6\n",
    "J = [0.8,1.0]\n",
    "system = Shastry_Sutherland(L=L, J = J)\n",
    "#sign_rule = [False]\n",
    "#Network parameters\n",
    "#ConvNext\n",
    "n_blocks = (1,)\n",
    "features = (12,)\n",
    "expansion_factor = 2\n",
    "downsample_factor = 2 #linear_patch_size \n",
    "kernel_width=3\n",
    "output_head = \"Vanilla\"\n",
    "final_features = features[0]\n",
    "network = ConvNext(n_blocks,features,expansion_factor,output_head,kernel_width,downsample_factor,final_features,system)\n",
    "args = {\"lr\": 4*[1e-3],\n",
    "        \"iters\":[10,10,5,5],\n",
    "        \"alpha\":4*[1],\n",
    "        \"samples_per_rank\": 128,\n",
    "        \"chains_per_rank\": 16,\n",
    "        \"diag_shift\":4*[1e-6],\n",
    "        \"diag_shift_end\":4*[1],\n",
    "        \"r\": 1e-6,\n",
    "        \"symmetries\": 1,\n",
    "        \"seed\": 5,\n",
    "        \"discard_fraction\":0,\n",
    "        \"save_every\":50,\n",
    "        \"show_progress\": True,\n",
    "        \"time_it\": False,\n",
    "        \"save_base\":\"/Users/Rajah.Nutakki/Desktop/work_dummy/test/\",\n",
    "        \"post_iters\": 10\n",
    "}\n",
    "args = Namespace(**args)\n",
    "sim_time, n_parameters= protocols.symmetry_ramp(system,network,args,momentum=0.9,compile_step=False)"
   ]
  },
  {
   "cell_type": "code",
   "execution_count": 2,
   "metadata": {},
   "outputs": [
    {
     "name": "stdout",
     "output_type": "stream",
     "text": [
      "Running optimization...\n",
      "Symmetry stage 0 on process 0:\n",
      "Total number of model parameters = 1248\n",
      "Using minSR\n"
     ]
    },
    {
     "name": "stderr",
     "output_type": "stream",
     "text": [
      "100%|██████████| 10/10 [00:05<00:00,  1.70it/s, Energy=10.9+0.6j ± 1.7 [σ²=368.8, R̂=1.1076]]\n"
     ]
    },
    {
     "name": "stdout",
     "output_type": "stream",
     "text": [
      "Symmetry stage 1 on process 0:\n",
      "Total number of model parameters = 1248\n",
      "Using minSR\n"
     ]
    },
    {
     "name": "stderr",
     "output_type": "stream",
     "text": [
      "100%|██████████| 10/10 [00:07<00:00,  1.37it/s, Energy=8.1-0.5j ± 1.4 [σ²=269.0, R̂=1.0666]]\n"
     ]
    },
    {
     "name": "stdout",
     "output_type": "stream",
     "text": [
      "Symmetry stage 2 on process 0:\n",
      "Total number of model parameters = 1248\n",
      "Using minSR\n"
     ]
    },
    {
     "name": "stderr",
     "output_type": "stream",
     "text": [
      "100%|██████████| 5/5 [00:04<00:00,  1.00it/s, Energy=5.8+0.1j ± 1.5 [σ²=288.2, R̂=1.0403]]\n"
     ]
    },
    {
     "name": "stdout",
     "output_type": "stream",
     "text": [
      "Symmetry stage 3 on process 0:\n",
      "Total number of model parameters = 1248\n",
      "Using minSR\n"
     ]
    },
    {
     "name": "stderr",
     "output_type": "stream",
     "text": [
      "100%|██████████| 5/5 [00:09<00:00,  1.86s/it, Energy=3.0+1.5j ± 1.7 [σ²=379.3, R̂=1.0662]]\n"
     ]
    },
    {
     "name": "stdout",
     "output_type": "stream",
     "text": [
      "Finished optimization\n",
      "Performing 10 additional optimization steps...\n",
      "Sampling parameters:\n",
      "n_chains = 32\n",
      "n_samples = 128\n",
      "n_discard_per_chain = 4\n"
     ]
    },
    {
     "name": "stderr",
     "output_type": "stream",
     "text": [
      "100%|██████████| 10/10 [00:17<00:00,  1.79s/it, Energy=-1.3+0.2j ± 1.9 [σ²=445.3, R̂=1.1204]]"
     ]
    },
    {
     "name": "stdout",
     "output_type": "stream",
     "text": [
      "Final 10 energies = [ 3.99063529  1.9301038   4.53742882  3.22770851  1.83667459  1.68555542\n",
      "  1.36538445 -1.65297545 -3.29509245 -1.3264436 ]\n",
      "min_index=8\n",
      "Finished additional optimization steps\n",
      "Post-process time = 25s\n"
     ]
    },
    {
     "name": "stderr",
     "output_type": "stream",
     "text": [
      "\n"
     ]
    }
   ],
   "source": [
    "#Parameters\n",
    "#Model parameters\n",
    "L = 6\n",
    "J = [0.8,1.0]\n",
    "system = Shastry_Sutherland(L=L, J = J)\n",
    "#sign_rule = [False]\n",
    "#Network parameters\n",
    "#ConvNext\n",
    "n_blocks = (1,)\n",
    "features = (12,)\n",
    "expansion_factor = 2\n",
    "downsample_factor = 2 #linear_patch_size \n",
    "kernel_width=3\n",
    "output_head = \"Vanilla\"\n",
    "final_features = features[0]\n",
    "network = ConvNext(n_blocks,features,expansion_factor,output_head,kernel_width,downsample_factor,final_features,system)\n",
    "args = {\"lr\": 4*[1e-3],\n",
    "        \"iters\":[10,10,5,5],\n",
    "        \"alpha\":4*[1],\n",
    "        \"samples_per_rank\": 128,\n",
    "        \"chains_per_rank\": 16,\n",
    "        \"diag_shift\":4*[1e-6],\n",
    "        \"diag_shift_end\":4*[1],\n",
    "        \"r\": 1e-6,\n",
    "        \"symmetries\": 1,\n",
    "        \"seed\": 5,\n",
    "        \"discard_fraction\":0,\n",
    "        \"save_every\":1,\n",
    "        \"show_progress\": True,\n",
    "        \"time_it\": False,\n",
    "        \"save_base\":\"/Users/Rajah.Nutakki/Desktop/work_dummy/test/\",\n",
    "        \"post_iters\": 10\n",
    "}\n",
    "args = Namespace(**args)\n",
    "sim_time, n_parameters= protocols.symmetry_ramp_checkpoint(system,network,args,momentum=0.9,compile_step=False)"
   ]
  },
  {
   "cell_type": "code",
   "execution_count": 16,
   "metadata": {},
   "outputs": [],
   "source": [
    "#Start of expectation value script\n",
    "#Load in from checkpoint\n",
    "min_index,system,network = save_load.load(args.save_base+\"post.json\",\"ConvNext\")"
   ]
  },
  {
   "cell_type": "code",
   "execution_count": 18,
   "metadata": {},
   "outputs": [],
   "source": [
    "#Load in the vstate\n",
    "sampler = nk.sampler.MetropolisExchange(system.hilbert_space,graph=system.graph)\n",
    "vstate = nk.vqs.MCState(sampler,model=network)\n",
    "checkpoint = nkc.checkpoint.CheckpointManager(args.save_base + \"post/checkpoint\")\n",
    "vstate = checkpoint.restore_state(vstate,step = min_index)"
   ]
  },
  {
   "cell_type": "code",
   "execution_count": 19,
   "metadata": {},
   "outputs": [
    {
     "name": "stderr",
     "output_type": "stream",
     "text": [
      "/var/folders/q5/3th0qwt539db5yhyjt0j0c1w0000gp/T/ipykernel_21809/2137115609.py:6: UserWarning: For performance reasons, we suggest to use a power-of-two chunk size.\n",
      "  vstate.chunk_size = 500\n"
     ]
    }
   ],
   "source": [
    "#Compute the expectation values\n",
    "n_samples_per_chain = 1000\n",
    "vstate.n_chains= 20\n",
    "vstate.n_discard_per_chain=n_samples_per_chain//10\n",
    "vstate.n_samples=n_samples_per_chain*vstate.n_chains\n",
    "vstate.chunk_size = 500\n",
    "operators = {\n",
    "    \"energy\": system.hamiltonian,\n",
    "}\n",
    "results_dict={}\n",
    "for name,operator in operators.items():\n",
    "    result = vstate.expect(operator.to_jax_operator())\n",
    "    result_dict = result.__dict__ #convert all of the attributes and their values to a dictionary\n",
    "    #Convert to types compatible with json\n",
    "    for key,value in result_dict.items():\n",
    "        if isinstance(value,jax.Array):\n",
    "            result_dict[key] = float(np.real(complex(value))) #cannot go directly from jax.Array with complex dtype to float, so take real part\n",
    "    results_dict[name] = result_dict\n",
    "\n",
    "#Save all results\n",
    "with open(args.save_base+\"expectation_values.json\",\"w+\") as f:\n",
    "    json.dump(results_dict,f)"
   ]
  },
  {
   "cell_type": "code",
   "execution_count": null,
   "metadata": {},
   "outputs": [],
   "source": []
  }
 ],
 "metadata": {
  "kernelspec": {
   "display_name": "netket_pro_local",
   "language": "python",
   "name": "python3"
  },
  "language_info": {
   "codemirror_mode": {
    "name": "ipython",
    "version": 3
   },
   "file_extension": ".py",
   "mimetype": "text/x-python",
   "name": "python",
   "nbconvert_exporter": "python",
   "pygments_lexer": "ipython3",
   "version": "3.12.3"
  }
 },
 "nbformat": 4,
 "nbformat_minor": 2
}
